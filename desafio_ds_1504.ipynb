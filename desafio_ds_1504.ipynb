{
  "nbformat": 4,
  "nbformat_minor": 0,
  "metadata": {
    "colab": {
      "provenance": []
    },
    "kernelspec": {
      "name": "python3",
      "display_name": "Python 3"
    },
    "language_info": {
      "name": "python"
    }
  },
  "cells": [
    {
      "cell_type": "markdown",
      "source": [
        "# **Desafio, sumário:**\n",
        "\n",
        "*   Acquire the dataset\n",
        "*   Import all the crucial libraries\n",
        "*   Import the dataset\n",
        "*   Identifying and handling the missing values\n",
        "*   Encoding the categorical data\n",
        "*   Splitting the dataset\n",
        "*   Feature scaling\n",
        "\n"
      ],
      "metadata": {
        "id": "ZGiOJON9Zm_X"
      }
    },
    {
      "cell_type": "markdown",
      "source": [
        "## Dica: foquem na blibioteca scikit-learn (sk-learn)"
      ],
      "metadata": {
        "id": "C58ggcPJaP5l"
      }
    }
  ]
}